{
  "nbformat": 4,
  "nbformat_minor": 0,
  "metadata": {
    "colab": {
      "provenance": []
    },
    "kernelspec": {
      "name": "python3",
      "display_name": "Python 3"
    },
    "language_info": {
      "name": "python"
    }
  },
  "cells": [
    {
      "cell_type": "code",
      "source": [
        "# Franz Reinaldo Alvis Cornejo\n",
        "import numpy as np\n",
        "from tabulate import tabulate\n",
        "import random\n",
        "\n",
        "descuento = 0.8  # gamma\n",
        "tasa_aprendizaje = 0.5  # alfa\n",
        "estado_final = 5"
      ],
      "metadata": {
        "id": "qVIf5difu6Ep"
      },
      "execution_count": null,
      "outputs": []
    },
    {
      "cell_type": "code",
      "source": [
        "recompensas = np.array([[-1., -1., -1., -1., 0., -1.],\n",
        "                        [-1., -1., -1., 0., -1., 100.],\n",
        "                        [-1., -1., -1., 0., -1., -1.],\n",
        "                        [-1., 0., 0., -1., 0., -1.],\n",
        "                        [0., -1., -1., 0., -1., 100.],\n",
        "                        [-1., 0., -1., -1., 0., 100.]])\n",
        "\n",
        "Q = np.zeros_like(recompensas)\n",
        "\n",
        "print(\"Tabla Q inicial:\")\n",
        "print(tabulate(Q, tablefmt=\"grid\"))\n",
        "print()"
      ],
      "metadata": {
        "colab": {
          "base_uri": "https://localhost:8080/"
        },
        "id": "wYpgG12eu6rz",
        "outputId": "883bebb0-7c0c-498f-cd48-2b420ea95f55"
      },
      "execution_count": null,
      "outputs": [
        {
          "output_type": "stream",
          "name": "stdout",
          "text": [
            "Tabla Q inicial:\n",
            "+---+---+---+---+---+---+\n",
            "| 0 | 0 | 0 | 0 | 0 | 0 |\n",
            "+---+---+---+---+---+---+\n",
            "| 0 | 0 | 0 | 0 | 0 | 0 |\n",
            "+---+---+---+---+---+---+\n",
            "| 0 | 0 | 0 | 0 | 0 | 0 |\n",
            "+---+---+---+---+---+---+\n",
            "| 0 | 0 | 0 | 0 | 0 | 0 |\n",
            "+---+---+---+---+---+---+\n",
            "| 0 | 0 | 0 | 0 | 0 | 0 |\n",
            "+---+---+---+---+---+---+\n",
            "| 0 | 0 | 0 | 0 | 0 | 0 |\n",
            "+---+---+---+---+---+---+\n",
            "\n"
          ]
        }
      ]
    },
    {
      "cell_type": "code",
      "source": [
        "def qlearning1(s, a):\n",
        "    Q[s][a] = recompensas[s][a] + descuento * max(Q[a])\n",
        "    return"
      ],
      "metadata": {
        "id": "gOBKz5kJu_wM"
      },
      "execution_count": null,
      "outputs": []
    },
    {
      "cell_type": "code",
      "source": [
        "def qlearning2(s, a):\n",
        "    Q[s][a] = tasa_aprendizaje * Q[s][a] + (1.0 - tasa_aprendizaje) * (recompensas[s][a] + descuento * max(Q[a]))\n",
        "    return"
      ],
      "metadata": {
        "id": "SQA7LgvhvBN_"
      },
      "execution_count": null,
      "outputs": []
    },
    {
      "cell_type": "code",
      "source": [
        "def qlearning3(s, a):\n",
        "    max_q = max(Q[a])  # Valor máximo de Q para el próximo estado a\n",
        "\n",
        "    nuevo_q = Q[s][a] + tasa_aprendizaje * (recompensas[s][a] + descuento * max_q - Q[s][a])\n",
        "    Q[s][a] = nuevo_q\n",
        "    return"
      ],
      "metadata": {
        "id": "VRcP42Lt6hDk"
      },
      "execution_count": null,
      "outputs": []
    },
    {
      "cell_type": "code",
      "source": [
        "for _ in range(100):\n",
        "    estado_actual = random.randint(0, 5)\n",
        "    while estado_actual == estado_final:\n",
        "        estado_actual = random.randint(0, 5)\n",
        "\n",
        "    mantener = True\n",
        "    while mantener:\n",
        "        accion = random.randint(0, 5)\n",
        "        while recompensas[estado_actual][accion] == -1:\n",
        "            accion = random.randint(0, 5)\n",
        "        qlearning3(estado_actual, accion)\n",
        "        estado_actual = accion\n",
        "        if estado_actual == estado_final:\n",
        "            mantener = False\n",
        "\n",
        "print(tabulate(Q, tablefmt=\"grid\"))"
      ],
      "metadata": {
        "colab": {
          "base_uri": "https://localhost:8080/"
        },
        "id": "tLkCSWR-vDLQ",
        "outputId": "be5041b1-f061-459f-c7c5-a3c3f75f93c6"
      },
      "execution_count": null,
      "outputs": [
        {
          "output_type": "stream",
          "name": "stdout",
          "text": [
            "+----+----+------+----+----+-----+\n",
            "|  0 |  0 |  0   |  0 | 80 |   0 |\n",
            "+----+----+------+----+----+-----+\n",
            "|  0 |  0 |  0   | 64 |  0 | 100 |\n",
            "+----+----+------+----+----+-----+\n",
            "|  0 |  0 |  0   | 64 |  0 |   0 |\n",
            "+----+----+------+----+----+-----+\n",
            "|  0 | 80 | 51.2 |  0 | 80 |   0 |\n",
            "+----+----+------+----+----+-----+\n",
            "| 64 |  0 |  0   | 64 |  0 | 100 |\n",
            "+----+----+------+----+----+-----+\n",
            "|  0 |  0 |  0   |  0 |  0 |   0 |\n",
            "+----+----+------+----+----+-----+\n"
          ]
        }
      ]
    },
    {
      "cell_type": "code",
      "source": [
        "def encontrar_camino_optimo(inicio):\n",
        "    camino_optimo = [inicio]\n",
        "    estado_actual = inicio\n",
        "\n",
        "    while estado_actual != estado_final:\n",
        "        accion_optima = np.argmax(Q[estado_actual])\n",
        "        estado_actual = accion_optima\n",
        "        camino_optimo.append(estado_actual)\n",
        "\n",
        "    return camino_optimo\n",
        "\n",
        "inicio = 0  # Estado inicial deseado\n",
        "camino_optimo = encontrar_camino_optimo(inicio)\n",
        "print(\"Camino óptimo desde el estado\", inicio, \"hasta el estado\", estado_final, \":\")\n",
        "print(camino_optimo)"
      ],
      "metadata": {
        "colab": {
          "base_uri": "https://localhost:8080/"
        },
        "id": "VsRP-TQ2zqI-",
        "outputId": "d4aeb6a8-d324-42bc-a20c-a4d58a4701ba"
      },
      "execution_count": null,
      "outputs": [
        {
          "output_type": "stream",
          "name": "stdout",
          "text": [
            "Camino óptimo desde el estado 0 hasta el estado 5 :\n",
            "[0, 4, 5]\n"
          ]
        }
      ]
    }
  ]
}