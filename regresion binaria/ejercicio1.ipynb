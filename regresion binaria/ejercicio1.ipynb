{
  "cells": [
    {
      "cell_type": "code",
      "execution_count": 1,
      "metadata": {
        "id": "GYTe60lFZlqg"
      },
      "outputs": [],
      "source": [
        "import pandas as pd"
      ]
    },
    {
      "cell_type": "code",
      "execution_count": 2,
      "metadata": {
        "id": "oIlq_6NJZys6"
      },
      "outputs": [],
      "source": [
        "# Importar libreria para dividir entrenamiento y prueba\n",
        "from sklearn.model_selection import train_test_split"
      ]
    },
    {
      "cell_type": "code",
      "execution_count": 3,
      "metadata": {
        "id": "mwiCvk28bbzn"
      },
      "outputs": [],
      "source": [
        "# se utiliza para el manejo de rutas y directorios.\n",
        "import os\n",
        "\n",
        "# Calculo cientifico y vectorial para python\n",
        "import numpy as np\n",
        "\n",
        "# Librerias para graficar\n",
        "from matplotlib import pyplot\n",
        "\n",
        "# Modulo de optimización de scipy\n",
        "from scipy import optimize\n",
        "\n",
        "# se utiliza para codificar variables categóricas en variables numéricas\n",
        "from sklearn.preprocessing import LabelEncoder\n",
        "\n",
        "# le dice a matplotlib que incruste gráficos en el cuaderno\n",
        "%matplotlib inline"
      ]
    },
    {
      "cell_type": "code",
      "execution_count": 4,
      "metadata": {
        "id": "RMxR0SB8Z1sj"
      },
      "outputs": [],
      "source": [
        "#Carga de dataset\n",
        "data = pd.read_csv('framingham.csv', header=0)"
      ]
    },
    {
      "cell_type": "code",
      "execution_count": 5,
      "metadata": {
        "colab": {
          "base_uri": "https://localhost:8080/"
        },
        "id": "0Jyw2zxjaR-U",
        "outputId": "6610c2a9-ea50-4a2a-cf4c-e6cacba8f923"
      },
      "outputs": [
        {
          "name": "stdout",
          "output_type": "stream",
          "text": [
            "<class 'pandas.core.frame.DataFrame'>\n",
            "RangeIndex: 4238 entries, 0 to 4237\n",
            "Data columns (total 16 columns):\n",
            " #   Column           Non-Null Count  Dtype  \n",
            "---  ------           --------------  -----  \n",
            " 0   male             4238 non-null   int64  \n",
            " 1   age              4238 non-null   int64  \n",
            " 2   education        4133 non-null   float64\n",
            " 3   currentSmoker    4238 non-null   int64  \n",
            " 4   cigsPerDay       4209 non-null   float64\n",
            " 5   BPMeds           4185 non-null   float64\n",
            " 6   prevalentStroke  4238 non-null   int64  \n",
            " 7   prevalentHyp     4238 non-null   int64  \n",
            " 8   diabetes         4238 non-null   int64  \n",
            " 9   totChol          4188 non-null   float64\n",
            " 10  sysBP            4238 non-null   float64\n",
            " 11  diaBP            4238 non-null   float64\n",
            " 12  BMI              4219 non-null   float64\n",
            " 13  heartRate        4237 non-null   float64\n",
            " 14  glucose          3850 non-null   float64\n",
            " 15  TenYearCHD       4238 non-null   int64  \n",
            "dtypes: float64(9), int64(7)\n",
            "memory usage: 529.9 KB\n"
          ]
        }
      ],
      "source": [
        "data.info()"
      ]
    },
    {
      "cell_type": "code",
      "execution_count": 6,
      "metadata": {},
      "outputs": [],
      "source": [
        "nombres_columnas = {\n",
        "    'male': 'sexo',\n",
        "    'age': 'edad',\n",
        "    'education': 'educacion',\n",
        "    'currentSmoker': 'fumador_actual',\n",
        "    'cigsPerDay': 'cigarrillos_por_dia',\n",
        "    'BPMeds': 'medicamentos_BP',\n",
        "    'prevalentStroke': 'ACV_prevalente',\n",
        "    'prevalentHyp': 'HTA_prevalente',\n",
        "    'diabetes': 'diabetes',\n",
        "    'totChol': 'colesterol_total',\n",
        "    'sysBP': 'presion_arterial_sistolica',\n",
        "    'diaBP': 'presion_arterial_diastolica',\n",
        "    'BMI': 'IMC',\n",
        "    'heartRate': 'frecuencia_cardiaca',\n",
        "    'glucose': 'glucosa',\n",
        "    'TenYearCHD': 'riesgo_10_anios_CHD'\n",
        "}\n",
        "\n",
        "# Cambiar los nombres de las columnas\n",
        "data = data.rename(columns=nombres_columnas)"
      ]
    },
    {
      "cell_type": "code",
      "execution_count": 7,
      "metadata": {},
      "outputs": [
        {
          "name": "stdout",
          "output_type": "stream",
          "text": [
            "<class 'pandas.core.frame.DataFrame'>\n",
            "RangeIndex: 4238 entries, 0 to 4237\n",
            "Data columns (total 16 columns):\n",
            " #   Column                       Non-Null Count  Dtype  \n",
            "---  ------                       --------------  -----  \n",
            " 0   sexo                         4238 non-null   int64  \n",
            " 1   edad                         4238 non-null   int64  \n",
            " 2   educacion                    4133 non-null   float64\n",
            " 3   fumador_actual               4238 non-null   int64  \n",
            " 4   cigarrillos_por_dia          4209 non-null   float64\n",
            " 5   medicamentos_BP              4185 non-null   float64\n",
            " 6   ACV_prevalente               4238 non-null   int64  \n",
            " 7   HTA_prevalente               4238 non-null   int64  \n",
            " 8   diabetes                     4238 non-null   int64  \n",
            " 9   colesterol_total             4188 non-null   float64\n",
            " 10  presion_arterial_sistolica   4238 non-null   float64\n",
            " 11  presion_arterial_diastolica  4238 non-null   float64\n",
            " 12  IMC                          4219 non-null   float64\n",
            " 13  frecuencia_cardiaca          4237 non-null   float64\n",
            " 14  glucosa                      3850 non-null   float64\n",
            " 15  riesgo_10_anios_CHD          4238 non-null   int64  \n",
            "dtypes: float64(9), int64(7)\n",
            "memory usage: 529.9 KB\n"
          ]
        }
      ],
      "source": [
        "data.info()"
      ]
    },
    {
      "cell_type": "code",
      "execution_count": 8,
      "metadata": {},
      "outputs": [],
      "source": [
        "# Supongamos que 'data' es tu DataFrame\n",
        "#\n",
        "# prevalentStroke (ACV_prevalente): A menos que haya una razón específica para incluir esta columna,Accidente Cerebrovascular\n",
        "\n",
        "# prevalentHyp (HTA_prevalente): Si no deseas predecir la hipertensión, puedes eliminar esta columna. \n",
        "\n",
        "\n",
        "columnas_eliminar = ['HTA_prevalente', 'ACV_prevalente', 'educacion']\n",
        "# Crea una nueva columna numérica y copia los valores de la columna categórica\n",
        "\n",
        "# Elimina la columna categórica original\n",
        "# axis indica que solo se eliminara una columna\n",
        "# inplace indica que se debe modificar directamente en el data\n",
        "data.drop(columnas_eliminar, axis=1, inplace=True)"
      ]
    },
    {
      "cell_type": "code",
      "execution_count": 9,
      "metadata": {},
      "outputs": [
        {
          "name": "stdout",
          "output_type": "stream",
          "text": [
            "<class 'pandas.core.frame.DataFrame'>\n",
            "RangeIndex: 4238 entries, 0 to 4237\n",
            "Data columns (total 13 columns):\n",
            " #   Column                       Non-Null Count  Dtype  \n",
            "---  ------                       --------------  -----  \n",
            " 0   sexo                         4238 non-null   int64  \n",
            " 1   edad                         4238 non-null   int64  \n",
            " 2   fumador_actual               4238 non-null   int64  \n",
            " 3   cigarrillos_por_dia          4209 non-null   float64\n",
            " 4   medicamentos_BP              4185 non-null   float64\n",
            " 5   diabetes                     4238 non-null   int64  \n",
            " 6   colesterol_total             4188 non-null   float64\n",
            " 7   presion_arterial_sistolica   4238 non-null   float64\n",
            " 8   presion_arterial_diastolica  4238 non-null   float64\n",
            " 9   IMC                          4219 non-null   float64\n",
            " 10  frecuencia_cardiaca          4237 non-null   float64\n",
            " 11  glucosa                      3850 non-null   float64\n",
            " 12  riesgo_10_anios_CHD          4238 non-null   int64  \n",
            "dtypes: float64(8), int64(5)\n",
            "memory usage: 430.6 KB\n"
          ]
        }
      ],
      "source": [
        "data.info()"
      ]
    },
    {
      "cell_type": "code",
      "execution_count": 10,
      "metadata": {},
      "outputs": [],
      "source": [
        "#llenar datos vacios\n",
        "columnas_especificas = [\"medicamentos_BP\", \"cigarrillos_por_dia\", \"colesterol_total\", \"IMC\", \"glucosa\", \"frecuencia_cardiaca\"]\n",
        "# se calcula la media de las columnas seleccionadas\n",
        "media_columnas = data[columnas_especificas].mean()\n",
        "# fill == llenar\n",
        "data[columnas_especificas] = data[columnas_especificas].fillna(media_columnas)"
      ]
    },
    {
      "cell_type": "code",
      "execution_count": 11,
      "metadata": {},
      "outputs": [
        {
          "name": "stdout",
          "output_type": "stream",
          "text": [
            "medicamentos_BP          0.029630\n",
            "cigarrillos_por_dia      9.003089\n",
            "colesterol_total       236.721585\n",
            "IMC                     25.802008\n",
            "glucosa                 81.966753\n",
            "frecuencia_cardiaca     75.878924\n",
            "dtype: float64\n"
          ]
        }
      ],
      "source": [
        "print(media_columnas)"
      ]
    },
    {
      "cell_type": "code",
      "execution_count": 12,
      "metadata": {},
      "outputs": [
        {
          "name": "stdout",
          "output_type": "stream",
          "text": [
            "<class 'pandas.core.frame.DataFrame'>\n",
            "RangeIndex: 4238 entries, 0 to 4237\n",
            "Data columns (total 13 columns):\n",
            " #   Column                       Non-Null Count  Dtype  \n",
            "---  ------                       --------------  -----  \n",
            " 0   sexo                         4238 non-null   int64  \n",
            " 1   edad                         4238 non-null   int64  \n",
            " 2   fumador_actual               4238 non-null   int64  \n",
            " 3   cigarrillos_por_dia          4238 non-null   float64\n",
            " 4   medicamentos_BP              4238 non-null   float64\n",
            " 5   diabetes                     4238 non-null   int64  \n",
            " 6   colesterol_total             4238 non-null   float64\n",
            " 7   presion_arterial_sistolica   4238 non-null   float64\n",
            " 8   presion_arterial_diastolica  4238 non-null   float64\n",
            " 9   IMC                          4238 non-null   float64\n",
            " 10  frecuencia_cardiaca          4238 non-null   float64\n",
            " 11  glucosa                      4238 non-null   float64\n",
            " 12  riesgo_10_anios_CHD          4238 non-null   int64  \n",
            "dtypes: float64(8), int64(5)\n",
            "memory usage: 430.6 KB\n"
          ]
        }
      ],
      "source": [
        "data.info()"
      ]
    },
    {
      "cell_type": "code",
      "execution_count": 13,
      "metadata": {},
      "outputs": [
        {
          "name": "stdout",
          "output_type": "stream",
          "text": [
            "Test longitud 848, Train longitud 3390\n"
          ]
        }
      ],
      "source": [
        "longitud = 4238 # RangeIndex\n",
        "train_long = longitud - longitud * 0.2 # 20%\n",
        "test_long = longitud - longitud * 0.8 # 80%\n",
        "print(f'Test longitud {int(np.round(test_long))}, Train longitud {int(train_long)}')"
      ]
    },
    {
      "cell_type": "code",
      "execution_count": 14,
      "metadata": {
        "id": "aqZEZRsVbtvr"
      },
      "outputs": [],
      "source": [
        "# Division de dataset en entrenamiento y prueba\n",
        "train_data, test_data = train_test_split(data, test_size=0.2, random_state=42)"
      ]
    },
    {
      "cell_type": "code",
      "execution_count": 15,
      "metadata": {
        "colab": {
          "base_uri": "https://localhost:8080/"
        },
        "id": "Aka-O-racCDn",
        "outputId": "cbcfd354-59c7-4c81-b4b1-a76dc7cc9c82"
      },
      "outputs": [
        {
          "name": "stdout",
          "output_type": "stream",
          "text": [
            "<class 'pandas.core.frame.DataFrame'>\n",
            "Index: 3390 entries, 3252 to 860\n",
            "Data columns (total 13 columns):\n",
            " #   Column                       Non-Null Count  Dtype  \n",
            "---  ------                       --------------  -----  \n",
            " 0   sexo                         3390 non-null   int64  \n",
            " 1   edad                         3390 non-null   int64  \n",
            " 2   fumador_actual               3390 non-null   int64  \n",
            " 3   cigarrillos_por_dia          3390 non-null   float64\n",
            " 4   medicamentos_BP              3390 non-null   float64\n",
            " 5   diabetes                     3390 non-null   int64  \n",
            " 6   colesterol_total             3390 non-null   float64\n",
            " 7   presion_arterial_sistolica   3390 non-null   float64\n",
            " 8   presion_arterial_diastolica  3390 non-null   float64\n",
            " 9   IMC                          3390 non-null   float64\n",
            " 10  frecuencia_cardiaca          3390 non-null   float64\n",
            " 11  glucosa                      3390 non-null   float64\n",
            " 12  riesgo_10_anios_CHD          3390 non-null   int64  \n",
            "dtypes: float64(8), int64(5)\n",
            "memory usage: 370.8 KB\n"
          ]
        }
      ],
      "source": [
        "train_data.info()"
      ]
    },
    {
      "cell_type": "code",
      "execution_count": 16,
      "metadata": {
        "colab": {
          "base_uri": "https://localhost:8080/"
        },
        "id": "Md89vT7YcFgr",
        "outputId": "a57a0918-f0de-49e4-d543-fa2b84b1b118"
      },
      "outputs": [
        {
          "name": "stdout",
          "output_type": "stream",
          "text": [
            "<class 'pandas.core.frame.DataFrame'>\n",
            "Index: 848 entries, 3188 to 2540\n",
            "Data columns (total 13 columns):\n",
            " #   Column                       Non-Null Count  Dtype  \n",
            "---  ------                       --------------  -----  \n",
            " 0   sexo                         848 non-null    int64  \n",
            " 1   edad                         848 non-null    int64  \n",
            " 2   fumador_actual               848 non-null    int64  \n",
            " 3   cigarrillos_por_dia          848 non-null    float64\n",
            " 4   medicamentos_BP              848 non-null    float64\n",
            " 5   diabetes                     848 non-null    int64  \n",
            " 6   colesterol_total             848 non-null    float64\n",
            " 7   presion_arterial_sistolica   848 non-null    float64\n",
            " 8   presion_arterial_diastolica  848 non-null    float64\n",
            " 9   IMC                          848 non-null    float64\n",
            " 10  frecuencia_cardiaca          848 non-null    float64\n",
            " 11  glucosa                      848 non-null    float64\n",
            " 12  riesgo_10_anios_CHD          848 non-null    int64  \n",
            "dtypes: float64(8), int64(5)\n",
            "memory usage: 92.8 KB\n"
          ]
        }
      ],
      "source": [
        "test_data.info()"
      ]
    },
    {
      "cell_type": "code",
      "execution_count": 17,
      "metadata": {
        "id": "eDzcIEGhcG-9"
      },
      "outputs": [],
      "source": [
        "train_data.to_csv(\"train.csv\", index=False) # crear los csv"
      ]
    },
    {
      "cell_type": "code",
      "execution_count": 18,
      "metadata": {
        "id": "otTXytTncKkK"
      },
      "outputs": [],
      "source": [
        "test_data.to_csv(\"test.csv\", index=False) # crear los csv"
      ]
    },
    {
      "cell_type": "code",
      "execution_count": 19,
      "metadata": {
        "id": "hXUAby4kcOA1"
      },
      "outputs": [],
      "source": [
        "#Carga de dataset\n",
        "data = pd.read_csv('train.csv') # entrenamiento"
      ]
    },
    {
      "cell_type": "code",
      "execution_count": 20,
      "metadata": {
        "colab": {
          "base_uri": "https://localhost:8080/"
        },
        "id": "hVj41oeEfIU9",
        "outputId": "1ee6c842-1e5a-4581-f0a2-32a4fb03a167"
      },
      "outputs": [
        {
          "name": "stdout",
          "output_type": "stream",
          "text": [
            "<class 'pandas.core.frame.DataFrame'>\n",
            "RangeIndex: 3390 entries, 0 to 3389\n",
            "Data columns (total 13 columns):\n",
            " #   Column                       Non-Null Count  Dtype  \n",
            "---  ------                       --------------  -----  \n",
            " 0   sexo                         3390 non-null   int64  \n",
            " 1   edad                         3390 non-null   int64  \n",
            " 2   fumador_actual               3390 non-null   int64  \n",
            " 3   cigarrillos_por_dia          3390 non-null   float64\n",
            " 4   medicamentos_BP              3390 non-null   float64\n",
            " 5   diabetes                     3390 non-null   int64  \n",
            " 6   colesterol_total             3390 non-null   float64\n",
            " 7   presion_arterial_sistolica   3390 non-null   float64\n",
            " 8   presion_arterial_diastolica  3390 non-null   float64\n",
            " 9   IMC                          3390 non-null   float64\n",
            " 10  frecuencia_cardiaca          3390 non-null   float64\n",
            " 11  glucosa                      3390 non-null   float64\n",
            " 12  riesgo_10_anios_CHD          3390 non-null   int64  \n",
            "dtypes: float64(8), int64(5)\n",
            "memory usage: 344.4 KB\n"
          ]
        }
      ],
      "source": [
        "data.info()"
      ]
    },
    {
      "cell_type": "code",
      "execution_count": 21,
      "metadata": {
        "id": "HuV8mvxLcR5b"
      },
      "outputs": [],
      "source": [
        "# Lectura de Datos\n",
        "# iloc accede a los datos\n",
        "# x me muestra las primeras 12 columnas\n",
        "columnas_seleccionadas = list(range(0, 5)) + list(range(6, 13))\n",
        "X = data.iloc[:, columnas_seleccionadas]\n",
        "y = data.iloc[:, 5]\n",
        "m = y.size"
      ]
    },
    {
      "cell_type": "code",
      "execution_count": 22,
      "metadata": {
        "colab": {
          "base_uri": "https://localhost:8080/"
        },
        "id": "96wj6J7ocUo7",
        "outputId": "4ae83aec-d479-44a1-c198-305987eafb58"
      },
      "outputs": [
        {
          "name": "stdout",
          "output_type": "stream",
          "text": [
            "      sexo  edad  fumador_actual  cigarrillos_por_dia  medicamentos_BP  \\\n",
            "0        1    40               1                 30.0              0.0   \n",
            "1        0    57               0                  0.0              0.0   \n",
            "2        0    47               0                  0.0              0.0   \n",
            "3        1    41               1                 30.0              0.0   \n",
            "4        0    64               0                  0.0              0.0   \n",
            "...    ...   ...             ...                  ...              ...   \n",
            "3385     0    36               1                  5.0              0.0   \n",
            "3386     0    57               1                 15.0              0.0   \n",
            "3387     0    60               0                  0.0              0.0   \n",
            "3388     1    39               1                 10.0              0.0   \n",
            "3389     0    35               0                  0.0              0.0   \n",
            "\n",
            "      colesterol_total  presion_arterial_sistolica  \\\n",
            "0                205.0                       131.0   \n",
            "1                250.0                       152.5   \n",
            "2                230.0                       123.0   \n",
            "3                228.0                       113.0   \n",
            "4                232.0                       149.5   \n",
            "...                ...                         ...   \n",
            "3385             222.0                       147.0   \n",
            "3386             250.0                       125.0   \n",
            "3387             298.0                       133.0   \n",
            "3388             215.0                       102.0   \n",
            "3389             248.0                       107.0   \n",
            "\n",
            "      presion_arterial_diastolica    IMC  frecuencia_cardiaca  glucosa  \\\n",
            "0                            81.0  23.74                 66.0     87.0   \n",
            "1                            92.5  32.31                 75.0     94.0   \n",
            "2                            71.0  26.98                 83.0     73.0   \n",
            "3                            82.5  25.67                 67.0     70.0   \n",
            "4                            84.0  20.49                 68.0     96.0   \n",
            "...                           ...    ...                  ...      ...   \n",
            "3385                         94.0  26.79                 76.0     71.0   \n",
            "3386                         74.0  21.08                 80.0     72.0   \n",
            "3387                         89.0  25.09                 83.0     81.0   \n",
            "3388                         64.5  24.50                 68.0     62.0   \n",
            "3389                         73.0  20.64                 90.0     80.0   \n",
            "\n",
            "      riesgo_10_anios_CHD  \n",
            "0                       0  \n",
            "1                       0  \n",
            "2                       0  \n",
            "3                       0  \n",
            "4                       0  \n",
            "...                   ...  \n",
            "3385                    0  \n",
            "3386                    0  \n",
            "3387                    0  \n",
            "3388                    0  \n",
            "3389                    0  \n",
            "\n",
            "[3390 rows x 12 columns]\n",
            "*************************\n",
            "0       0\n",
            "1       0\n",
            "2       0\n",
            "3       0\n",
            "4       0\n",
            "       ..\n",
            "3385    0\n",
            "3386    0\n",
            "3387    0\n",
            "3388    0\n",
            "3389    0\n",
            "Name: diabetes, Length: 3390, dtype: int64\n"
          ]
        }
      ],
      "source": [
        "print(X)\n",
        "print('*'*25)\n",
        "print(y)"
      ]
    },
    {
      "cell_type": "code",
      "execution_count": 23,
      "metadata": {
        "colab": {
          "base_uri": "https://localhost:8080/"
        },
        "id": "ykV-r6x4pnqx",
        "outputId": "52dcf0cb-38f4-4543-e11b-f1a1a66fee59"
      },
      "outputs": [
        {
          "name": "stdout",
          "output_type": "stream",
          "text": [
            "<class 'pandas.core.frame.DataFrame'>\n",
            "RangeIndex: 3390 entries, 0 to 3389\n",
            "Data columns (total 13 columns):\n",
            " #   Column                       Non-Null Count  Dtype  \n",
            "---  ------                       --------------  -----  \n",
            " 0   sexo                         3390 non-null   int64  \n",
            " 1   edad                         3390 non-null   int64  \n",
            " 2   fumador_actual               3390 non-null   int64  \n",
            " 3   cigarrillos_por_dia          3390 non-null   float64\n",
            " 4   medicamentos_BP              3390 non-null   float64\n",
            " 5   diabetes                     3390 non-null   int64  \n",
            " 6   colesterol_total             3390 non-null   float64\n",
            " 7   presion_arterial_sistolica   3390 non-null   float64\n",
            " 8   presion_arterial_diastolica  3390 non-null   float64\n",
            " 9   IMC                          3390 non-null   float64\n",
            " 10  frecuencia_cardiaca          3390 non-null   float64\n",
            " 11  glucosa                      3390 non-null   float64\n",
            " 12  riesgo_10_anios_CHD          3390 non-null   int64  \n",
            "dtypes: float64(8), int64(5)\n",
            "memory usage: 344.4 KB\n"
          ]
        }
      ],
      "source": [
        "data.info()"
      ]
    },
    {
      "cell_type": "markdown",
      "metadata": {},
      "source": [
        "<a id=\"section1\"></a>\n",
        "### 1.2 Implementacion\n",
        "\n",
        "#### 1.2.1 Fución Sigmoidea\n",
        "\n",
        "La hipotesis para la regresión logistica se define como:\n",
        "\n",
        "$$ h_\\theta(x) = g(\\theta^T x)$$\n",
        "\n",
        "donde la función $g$ is la función sigmoidea. La función sigmoidea se define como:\n",
        "\n",
        "$$g(z) = \\frac{1}{1+e^{-z}}$$.\n",
        "\n",
        "Los resultados que debe generar la funcion sigmoidea para valores positivos amplios de `x`, deben ser cercanos a 1, mientras que para valores negativos grandes, la sigmoide debe generar valores cercanos 0. La evaluacion de `sigmoid(0)` debe dar un resultado exacto de 0.5. Esta funcion tambien debe poder trabajar con vectores y matrices."
      ]
    },
    {
      "cell_type": "code",
      "execution_count": 24,
      "metadata": {
        "id": "CDG5hG29cYkc"
      },
      "outputs": [],
      "source": [
        "# z === 0tx === 00x0 + 01x1\n",
        "# una probabilidad entre 0 a 1\n",
        "def sigmoid(z):\n",
        "    # Calcula la sigmoide de una entrada z\n",
        "    # Convierte la entrada a un arreglo numpy\n",
        "    z = np.array(z)\n",
        "\n",
        "    # Limita los valores de z para evitar overflow\n",
        "    z = np.clip(z, -500, 500)\n",
        "\n",
        "    g = 1 / (1 + np.exp(-z))\n",
        "\n",
        "    return g"
      ]
    },
    {
      "cell_type": "code",
      "execution_count": 25,
      "metadata": {
        "colab": {
          "base_uri": "https://localhost:8080/"
        },
        "id": "qFFcepVNkikm",
        "outputId": "4c600bc5-01c1-4bb8-aea4-48f5c3e71688"
      },
      "outputs": [
        {
          "name": "stdout",
          "output_type": "stream",
          "text": [
            "g( 1 ) =  0.7310585786300049\n"
          ]
        }
      ],
      "source": [
        "# Prueba la implementacion de la funcion sigmoid\n",
        "z = 1\n",
        "g = sigmoid(z)\n",
        "\n",
        "print('g(', z, ') = ', g)"
      ]
    },
    {
      "cell_type": "code",
      "execution_count": 26,
      "metadata": {
        "id": "iZTfAttKyypr"
      },
      "outputs": [],
      "source": [
        "def  featureNormalize(X):\n",
        "    # Se crea una copia del conjunto de datos X para evitar modificar los datos originales.\n",
        "    X_norm = X.copy()\n",
        "    # se crea un arreglo de 0 para almacenar la media y desviacion estandar\n",
        "    mu = np.zeros(X.shape[1])\n",
        "    sigma = np.zeros(X.shape[1])\n",
        "\n",
        "    # media\n",
        "    mu = np.mean(X, axis = 0)\n",
        "    # desviacion estandar\n",
        "    sigma = np.std(X, axis = 0)\n",
        "    X_norm = (X - mu) / sigma\n",
        "\n",
        "    return X_norm, mu, sigma"
      ]
    },
    {
      "cell_type": "code",
      "execution_count": 27,
      "metadata": {
        "colab": {
          "base_uri": "https://localhost:8080/"
        },
        "id": "gPx4IrL2yy-c",
        "outputId": "1ca5634f-88b8-407c-a1e3-82bb16075515"
      },
      "outputs": [
        {
          "name": "stdout",
          "output_type": "stream",
          "text": [
            "      sexo  edad  fumador_actual  cigarrillos_por_dia  medicamentos_BP  \\\n",
            "0        1    40               1                 30.0              0.0   \n",
            "1        0    57               0                  0.0              0.0   \n",
            "2        0    47               0                  0.0              0.0   \n",
            "3        1    41               1                 30.0              0.0   \n",
            "4        0    64               0                  0.0              0.0   \n",
            "...    ...   ...             ...                  ...              ...   \n",
            "3385     0    36               1                  5.0              0.0   \n",
            "3386     0    57               1                 15.0              0.0   \n",
            "3387     0    60               0                  0.0              0.0   \n",
            "3388     1    39               1                 10.0              0.0   \n",
            "3389     0    35               0                  0.0              0.0   \n",
            "\n",
            "      colesterol_total  presion_arterial_sistolica  \\\n",
            "0                205.0                       131.0   \n",
            "1                250.0                       152.5   \n",
            "2                230.0                       123.0   \n",
            "3                228.0                       113.0   \n",
            "4                232.0                       149.5   \n",
            "...                ...                         ...   \n",
            "3385             222.0                       147.0   \n",
            "3386             250.0                       125.0   \n",
            "3387             298.0                       133.0   \n",
            "3388             215.0                       102.0   \n",
            "3389             248.0                       107.0   \n",
            "\n",
            "      presion_arterial_diastolica    IMC  frecuencia_cardiaca  glucosa  \\\n",
            "0                            81.0  23.74                 66.0     87.0   \n",
            "1                            92.5  32.31                 75.0     94.0   \n",
            "2                            71.0  26.98                 83.0     73.0   \n",
            "3                            82.5  25.67                 67.0     70.0   \n",
            "4                            84.0  20.49                 68.0     96.0   \n",
            "...                           ...    ...                  ...      ...   \n",
            "3385                         94.0  26.79                 76.0     71.0   \n",
            "3386                         74.0  21.08                 80.0     72.0   \n",
            "3387                         89.0  25.09                 83.0     81.0   \n",
            "3388                         64.5  24.50                 68.0     62.0   \n",
            "3389                         73.0  20.64                 90.0     80.0   \n",
            "\n",
            "      riesgo_10_anios_CHD  \n",
            "0                       0  \n",
            "1                       0  \n",
            "2                       0  \n",
            "3                       0  \n",
            "4                       0  \n",
            "...                   ...  \n",
            "3385                    0  \n",
            "3386                    0  \n",
            "3387                    0  \n",
            "3388                    0  \n",
            "3389                    0  \n",
            "\n",
            "[3390 rows x 12 columns]\n",
            "********************\n",
            "Media calculada: sexo                             0.422714\n",
            "edad                            49.522124\n",
            "fumador_actual                   0.499115\n",
            "cigarrillos_por_dia              9.058134\n",
            "medicamentos_BP                  0.029623\n",
            "colesterol_total               236.874722\n",
            "presion_arterial_sistolica     132.389823\n",
            "presion_arterial_diastolica     82.985251\n",
            "IMC                             25.838421\n",
            "frecuencia_cardiaca             75.995540\n",
            "glucosa                         81.996036\n",
            "riesgo_10_anios_CHD              0.153392\n",
            "dtype: float64\n",
            "********************\n",
            "Desviación estandar calculada: sexo                            0.493991\n",
            "edad                            8.575912\n",
            "fumador_actual                  0.499999\n",
            "cigarrillos_por_dia            11.881116\n",
            "medicamentos_BP                 0.168340\n",
            "colesterol_total               44.477050\n",
            "presion_arterial_sistolica     22.116420\n",
            "presion_arterial_diastolica    11.965015\n",
            "IMC                             4.106652\n",
            "frecuencia_cardiaca            11.930761\n",
            "glucosa                        22.617398\n",
            "riesgo_10_anios_CHD             0.360365\n",
            "dtype: float64\n",
            "********************\n",
            "          sexo      edad  fumador_actual  cigarrillos_por_dia  \\\n",
            "0     1.168617 -1.110334        1.001771             1.762618   \n",
            "1    -0.855712  0.871963       -0.998232            -0.762398   \n",
            "2    -0.855712 -0.294094       -0.998232            -0.762398   \n",
            "3     1.168617 -0.993728        1.001771             1.762618   \n",
            "4    -0.855712  1.688203       -0.998232            -0.762398   \n",
            "...        ...       ...             ...                  ...   \n",
            "3385 -0.855712 -1.576756        1.001771            -0.341562   \n",
            "3386 -0.855712  0.871963        1.001771             0.500110   \n",
            "3387 -0.855712  1.221780       -0.998232            -0.762398   \n",
            "3388  1.168617 -1.226939        1.001771             0.079274   \n",
            "3389 -0.855712 -1.693362       -0.998232            -0.762398   \n",
            "\n",
            "      medicamentos_BP  colesterol_total  presion_arterial_sistolica  \\\n",
            "0           -0.175971         -0.716655                   -0.062841   \n",
            "1           -0.175971          0.295102                    0.909287   \n",
            "2           -0.175971         -0.154568                   -0.424563   \n",
            "3           -0.175971         -0.199535                   -0.876716   \n",
            "4           -0.175971         -0.109601                    0.773641   \n",
            "...               ...               ...                         ...   \n",
            "3385        -0.175971         -0.334436                    0.660603   \n",
            "3386        -0.175971          0.295102                   -0.334133   \n",
            "3387        -0.175971          1.374311                    0.027589   \n",
            "3388        -0.175971         -0.491820                   -1.374084   \n",
            "3389        -0.175971          0.250135                   -1.148008   \n",
            "\n",
            "      presion_arterial_diastolica       IMC  frecuencia_cardiaca   glucosa  \\\n",
            "0                       -0.165921 -0.510981            -0.837796  0.221244   \n",
            "1                        0.795214  1.575877            -0.083443  0.530740   \n",
            "2                       -1.001691  0.277983             0.587093 -0.397748   \n",
            "3                       -0.040556 -0.041012            -0.753979 -0.530390   \n",
            "4                        0.084810 -1.302380            -0.670162  0.619168   \n",
            "...                           ...       ...                  ...       ...   \n",
            "3385                     0.920580  0.231716             0.000374 -0.486176   \n",
            "3386                    -0.750960 -1.158711             0.335642 -0.441962   \n",
            "3387                     0.502695 -0.182246             0.587093 -0.044038   \n",
            "3388                    -1.544942 -0.325915            -0.670162 -0.884100   \n",
            "3389                    -0.834537 -1.265854             1.173811 -0.088252   \n",
            "\n",
            "      riesgo_10_anios_CHD  \n",
            "0               -0.425658  \n",
            "1               -0.425658  \n",
            "2               -0.425658  \n",
            "3               -0.425658  \n",
            "4               -0.425658  \n",
            "...                   ...  \n",
            "3385            -0.425658  \n",
            "3386            -0.425658  \n",
            "3387            -0.425658  \n",
            "3388            -0.425658  \n",
            "3389            -0.425658  \n",
            "\n",
            "[3390 rows x 12 columns]\n"
          ]
        }
      ],
      "source": [
        "# llama featureNormalize con los datos cargados\n",
        "X_norm, mu, sigma = featureNormalize(X)\n",
        "\n",
        "print(X)\n",
        "print('*'*20)\n",
        "print('Media calculada:', mu)\n",
        "print('*'*20)\n",
        "print('Desviación estandar calculada:', sigma)\n",
        "print('*'*20)\n",
        "print(X_norm)"
      ]
    },
    {
      "cell_type": "code",
      "execution_count": 28,
      "metadata": {
        "colab": {
          "base_uri": "https://localhost:8080/"
        },
        "id": "UY1-Z3cbca-0",
        "outputId": "5bdc1a87-e66e-43e9-e5b4-1e335ce8d212"
      },
      "outputs": [
        {
          "name": "stdout",
          "output_type": "stream",
          "text": [
            "3390\n",
            "12\n",
            "[[ 1.          1.16861732 -1.11033368 ... -0.83779565  0.22124404\n",
            "  -0.42565792]\n",
            " [ 1.         -0.85571212  0.87196279 ... -0.08344309  0.53074029\n",
            "  -0.42565792]\n",
            " [ 1.         -0.85571212 -0.29409396 ...  0.58709253 -0.39774847\n",
            "  -0.42565792]\n",
            " ...\n",
            " [ 1.         -0.85571212  1.22177981 ...  0.58709253 -0.04403847\n",
            "  -0.42565792]\n",
            " [ 1.          1.16861732 -1.22693936 ... -0.67016175 -0.88409973\n",
            "  -0.42565792]\n",
            " [ 1.         -0.85571212 -1.69336206 ...  1.17381119 -0.08825222\n",
            "  -0.42565792]]\n"
          ]
        }
      ],
      "source": [
        "# Configurar la matriz adecuadamente, y agregar una columna de unos que corresponde al termino de intercepción.\n",
        "m, n = X.shape\n",
        "print(m)\n",
        "print(n)\n",
        "# Agrega el termino de intercepción a A\n",
        "X = np.concatenate([np.ones((m, 1)), X_norm], axis=1)\n",
        "\n",
        "print(X)        "
      ]
    },
    {
      "cell_type": "code",
      "execution_count": 29,
      "metadata": {
        "id": "DNRZ1Xn2cfHy"
      },
      "outputs": [],
      "source": [
        "def calcularCosto(theta, X, y):\n",
        "    # Inicializar algunos valores utiles\n",
        "    m = y.size  # numero de ejemplos de entrenamiento\n",
        "    #epsilon = 1e-8\n",
        "\n",
        "    J = 0\n",
        "    h = sigmoid(X.dot(theta.T))\n",
        "\n",
        "    # epsilon = 1e-10  # Un valor pequeño para evitar divisiones por cero 0.0000000000001\n",
        "    # J = (1 / m) * np.sum(-y.dot(np.log(h + epsilon)) - (1 - y).dot(np.log(1 - h + epsilon)))\n",
        "\n",
        "    J = (1 / m) * np.sum(-y.dot(np.log(h)) - (1 - y).dot(np.log(1 - h)))\n",
        "\n",
        "    return J"
      ]
    },
    {
      "cell_type": "code",
      "execution_count": 30,
      "metadata": {
        "id": "p0WEMERTchvl"
      },
      "outputs": [],
      "source": [
        "def descensoGradiente(theta, X, y, alpha, num_iters):\n",
        "    # Inicializa algunos valores\n",
        "    m = y.shape[0] # numero de ejemplos de entrenamiento\n",
        "\n",
        "    # realiza una copia de theta, el cual será acutalizada por el descenso por el gradiente\n",
        "    theta = theta.copy()\n",
        "    J_history = []\n",
        "\n",
        "    for i in range(num_iters):\n",
        "        h = sigmoid(X.dot(theta.T))\n",
        "        theta = theta - (alpha / m) * (h - y).dot(X)\n",
        "\n",
        "        J_history.append(calcularCosto(theta, X, y))\n",
        "    return theta, J_history"
      ]
    },
    {
      "cell_type": "code",
      "execution_count": 31,
      "metadata": {
        "colab": {
          "base_uri": "https://localhost:8080/"
        },
        "id": "-tfQ3ZUVvm5r",
        "outputId": "dd274a43-ecca-4b2a-e531-98b71b1c64c0"
      },
      "outputs": [
        {
          "name": "stdout",
          "output_type": "stream",
          "text": [
            "     sexo  edad  fumador_actual  cigarrillos_por_dia  medicamentos_BP  \\\n",
            "0       1    63               0                  0.0              0.0   \n",
            "1       1    45               0                  0.0              0.0   \n",
            "2       0    51               1                  2.0              0.0   \n",
            "3       1    45               1                 30.0              0.0   \n",
            "4       0    45               1                  3.0              0.0   \n",
            "..    ...   ...             ...                  ...              ...   \n",
            "843     1    47               0                  0.0              0.0   \n",
            "844     1    44               0                  0.0              0.0   \n",
            "845     1    50               0                  0.0              0.0   \n",
            "846     1    64               0                  0.0              0.0   \n",
            "847     1    55               1                 20.0              0.0   \n",
            "\n",
            "     diabetes  colesterol_total  presion_arterial_sistolica  \\\n",
            "0           0             190.0                       148.0   \n",
            "1           0             162.0                       125.0   \n",
            "2           0             261.0                       127.0   \n",
            "3           0             250.0                       126.0   \n",
            "4           0             250.0                       130.0   \n",
            "..        ...               ...                         ...   \n",
            "843         0             259.0                       139.0   \n",
            "844         0             254.0                       130.0   \n",
            "845         0             282.0                       126.5   \n",
            "846         1             195.0                       176.0   \n",
            "847         0             214.0                       110.0   \n",
            "\n",
            "     presion_arterial_diastolica    IMC  frecuencia_cardiaca  glucosa  \\\n",
            "0                           90.0  27.13                 72.0     86.0   \n",
            "1                           89.0  27.98                 85.0     83.0   \n",
            "2                           81.0  20.24                 75.0     96.0   \n",
            "3                           89.5  28.68                 75.0     92.0   \n",
            "4                           80.0  20.24                 90.0     86.0   \n",
            "..                           ...    ...                  ...      ...   \n",
            "843                         79.0  29.34                 70.0     71.0   \n",
            "844                         80.0  28.15                 80.0     74.0   \n",
            "845                         88.0  27.30                 85.0     87.0   \n",
            "846                         78.0  24.90                 95.0    370.0   \n",
            "847                         71.0  24.24                 75.0     72.0   \n",
            "\n",
            "     riesgo_10_anios_CHD  \n",
            "0                      0  \n",
            "1                      0  \n",
            "2                      0  \n",
            "3                      0  \n",
            "4                      0  \n",
            "..                   ...  \n",
            "843                    1  \n",
            "844                    0  \n",
            "845                    0  \n",
            "846                    0  \n",
            "847                    0  \n",
            "\n",
            "[848 rows x 13 columns]\n"
          ]
        }
      ],
      "source": [
        "data = pd.read_csv('test.csv')\n",
        "print(data)"
      ]
    },
    {
      "cell_type": "code",
      "execution_count": 52,
      "metadata": {
        "colab": {
          "base_uri": "https://localhost:8080/"
        },
        "id": "WvyALuMecmRF",
        "outputId": "7496f889-556f-4c88-b4d0-2fe87129bb6d"
      },
      "outputs": [
        {
          "name": "stdout",
          "output_type": "stream",
          "text": [
            "[1.0, 64.0, 0.0, 0.0, 0.0, 1.0, 195.0, 176.0, 78.0, 24.9, 95.0, 370.0, 0.0]\n"
          ]
        }
      ],
      "source": [
        "fila_deseada = 846\n",
        "\n",
        "if fila_deseada < len(data):\n",
        "  fila_completa = data.iloc[fila_deseada].tolist()\n",
        "  print(fila_completa)\n",
        "else:\n",
        "  print(\"La fila no existe\")\n",
        "\n",
        "# la diabete se predice en el pos 5 del array"
      ]
    },
    {
      "cell_type": "code",
      "execution_count": 53,
      "metadata": {
        "colab": {
          "base_uri": "https://localhost:8080/",
          "height": 503
        },
        "id": "F565FrXpcwoW",
        "outputId": "b18f0d22-5abc-4f87-ea44-b20090d80ce4"
      },
      "outputs": [
        {
          "name": "stdout",
          "output_type": "stream",
          "text": [
            "theta calculado por el descenso por el gradiente: [-4.40324690e+00  2.60580518e-02  1.97235305e-01 -4.36165950e-02\n",
            " -4.30629412e-03  3.71396904e-02  1.96022129e-03  1.50319182e-01\n",
            " -7.64975120e-02  1.89278619e-01  4.94608845e-02  1.46901134e+00\n",
            " -2.13367240e-02]\n",
            "0.9992639020909501\n"
          ]
        },
        {
          "data": {
            "image/png": "[encoded data removed]",
            "text/plain": [
              "<Figure size 640x480 with 1 Axes>"
            ]
          },
          "metadata": {},
          "output_type": "display_data"
        }
      ],
      "source": [
        "# Elegir algun valor para alpha (probar varias alternativas)\n",
        "alpha = 0.03 #0.001\n",
        "num_iters = 5000 # 100\n",
        "\n",
        "# inicializa theta y ejecuta el descenso por el gradiente\n",
        "theta = np.zeros(13)\n",
        "theta, J_history = descensoGradiente(theta, X, y, alpha, num_iters)\n",
        "\n",
        "# Grafica la convergencia del costo\n",
        "pyplot.plot(np.arange(len(J_history)), J_history, lw=2)\n",
        "pyplot.xlabel('Numero de iteraciones')\n",
        "pyplot.ylabel('Costo J')\n",
        "\n",
        "# Muestra los resultados del descenso por el gradiente\n",
        "print('theta calculado por el descenso por el gradiente: {:s}'.format(str(theta)))\n",
        "\n",
        "X_array = [1, 1.0, 64.0, 0.0, 0.0, 0.0, 195.0, 176.0, 78.0, 24.9, 95.0, 370.0, 0.0]\n",
        "\n",
        "z = np.dot(X_array, theta) #0*x\n",
        "probability = sigmoid(z)\n",
        "\n",
        "print(probability)\n",
        "\n",
        "# print(f\" (usando el descenso por el gradiente):{aprueba}\")\n",
        "#0.9124981079062219"
      ]
    },
    {
      "cell_type": "code",
      "execution_count": 34,
      "metadata": {
        "id": "Mgcbo1tE3ST5"
      },
      "outputs": [],
      "source": [
        "def costFunction(theta, X, y):\n",
        "    # Inicializar algunos valores utiles\n",
        "    m = y.size  # numero de ejemplos de entrenamiento\n",
        "# \n",
        "    J = 0\n",
        "    grad = np.zeros(theta.shape)\n",
        "\n",
        "    h = sigmoid(X.dot(theta.T))\n",
        "\n",
        "    epsilon = 1e-10  # Un valor pequeño para evitar divisiones por cero\n",
        "    J = (1 / m) * np.sum(-y.dot(np.log(h + epsilon)) - (1 - y).dot(np.log(1 - h + epsilon)))\n",
        "    grad = (1 / m) * (h - y).dot(X)\n",
        "\n",
        "    return J, grad"
      ]
    },
    {
      "cell_type": "code",
      "execution_count": 35,
      "metadata": {
        "colab": {
          "base_uri": "https://localhost:8080/"
        },
        "id": "x5SOQsk63W_E",
        "outputId": "f3e1d19e-e0df-4aed-dc4f-1f129b7b4611"
      },
      "outputs": [
        {
          "name": "stdout",
          "output_type": "stream",
          "text": [
            "[0. 0. 0. 0. 0. 0. 0. 0. 0. 0. 0. 0. 0.]\n",
            "Costo en theta inicial (zeros): 0.693\n",
            "Costo esperado (aproximado): 0.693\n",
            "\n",
            "[ 0.47492625 -0.00063854 -0.01491519  0.00674029  0.00511313 -0.00620547\n",
            " -0.00383593 -0.01718401 -0.00990483 -0.01621847 -0.00933061 -0.09602128\n",
            " -0.01388435]\n"
          ]
        }
      ],
      "source": [
        "# Inicializacion de parametros de ajuste\n",
        "initial_theta = np.zeros(n+1)\n",
        "print(initial_theta)\n",
        "cost, grad = costFunction(initial_theta, X, y)\n",
        "print('Costo en theta inicial (zeros): {:.3f}'.format(cost))\n",
        "print('Costo esperado (aproximado): 0.693\\n')\n",
        "print(grad)"
      ]
    },
    {
      "cell_type": "code",
      "execution_count": 36,
      "metadata": {
        "colab": {
          "base_uri": "https://localhost:8080/"
        },
        "id": "jXodMk173lKJ",
        "outputId": "325523c5-9b89-4d58-c1b9-0d760e0d8209"
      },
      "outputs": [
        {
          "name": "stdout",
          "output_type": "stream",
          "text": [
            "[  1.     0.    41.     4.     1.    17.   261.   147.5   97.    31.65\n",
            "  75.    73.     0.  ]\n",
            "Costo en theta prueba: 10.094\n",
            "Gradiente en theta prueba:\n",
            "\t[0.438, -0.030, 0.170, -0.049, -0.026, 0.073, 0.295, 0.271, 0.258, 0.135, 0.133, -0.018, 0.058]\n"
          ]
        }
      ],
      "source": [
        "# Calcula y muestra el costo y el gradiente con valores de theta diferentes a cero\n",
        "\n",
        "test_theta = np.array([1, 0.0, 41.0, 4.0, 1.0, 17.0, 261.0, 147.5, 97.0, 31.65, 75.0, 73.0, 0.0])\n",
        "#test_theta = np.array([-11.74749157, 0.09927308, 0.09316497])\n",
        "print(test_theta)\n",
        "cost, grad = costFunction(test_theta, X, y)\n",
        "\n",
        "print('Costo en theta prueba: {:.3f}'.format(cost))\n",
        "\n",
        "print('Gradiente en theta prueba:')\n",
        "print('\\t[{:.3f}, {:.3f}, {:.3f}, {:.3f}, {:.3f}, {:.3f}, {:.3f}, {:.3f}, {:.3f}, {:.3f}, {:.3f}, {:.3f}, {:.3f}]'.format(*grad))\n"
      ]
    },
    {
      "cell_type": "code",
      "execution_count": 37,
      "metadata": {
        "colab": {
          "base_uri": "https://localhost:8080/"
        },
        "id": "iKEM1dub34Ny",
        "outputId": "691373c4-6ee1-4117-cf1e-98a90dd211d6"
      },
      "outputs": [
        {
          "name": "stdout",
          "output_type": "stream",
          "text": [
            "Costo con un valor de theta encontrado por optimize.minimize: 0.052\n",
            "theta:\n",
            "\t[-5.232, 0.062, 0.314, -0.075, 0.025, 0.037, 0.009, 0.329, -0.230, 0.272, 0.037, 1.919, -0.127]\n",
            "*************************\n"
          ]
        },
        {
          "name": "stderr",
          "output_type": "stream",
          "text": [
            "C:\\Users\\ACER NITRO 5\\AppData\\Local\\Temp\\ipykernel_6644\\3579219352.py:8: OptimizeWarning: Unknown solver options: maxiter\n",
            "  res = optimize.minimize(costFunction,\n"
          ]
        }
      ],
      "source": [
        "# Establecer las opciones para optimize.minimize\n",
        "options= {'maxiter': 1000} # diccionario donde estamos diciendop que haga 1000 iteraciones\n",
        "# options= {}\n",
        "\n",
        "# revisar la documentacion de scipy's optimize.minimize para mayor descripcion de los parametros\n",
        "# La funcion devuekve un objeto `OptimizeResult`\n",
        "# Se utiliza el algoritmo de Newton truncado para la optimización.\n",
        "res = optimize.minimize(costFunction,\n",
        "                        initial_theta,\n",
        "                        (X, y),\n",
        "                        jac=True, #Indica que la función de costo también proporciona el gradiente.\n",
        "                        method='TNC', #  Se utiliza el método de optimización de Newton truncado (TNC).\n",
        "                        options=options)\n",
        "\n",
        "# la propiedad fun del objeto devuelto por `OptimizeResult`\n",
        "# contiene el valor del costFunction de un theta optimizado\n",
        "cost = res.fun\n",
        "\n",
        "# Theta optimizada esta en la propiedad x\n",
        "theta = res.x\n",
        "\n",
        "# Imprimir theta en la pantalla\n",
        "print('Costo con un valor de theta encontrado por optimize.minimize: {:.3f}'.format(cost))\n",
        "\n",
        "print('theta:')\n",
        "print('\\t[{:.3f}, {:.3f}, {:.3f}, {:.3f}, {:.3f}, {:.3f}, {:.3f}, {:.3f}, {:.3f}, {:.3f}, {:.3f}, {:.3f}, {:.3f}]'.format(*theta))\n",
        "print(\"*\"*25)\n"
      ]
    },
    {
      "cell_type": "code",
      "execution_count": 38,
      "metadata": {
        "id": "rebzLSHv4Pez"
      },
      "outputs": [],
      "source": [
        "def predict(theta, X):\n",
        "    \"\"\"\n",
        "    Predecir si la etiqueta es 0 o 1 mediante regresión logística aprendida.\n",
        "    Calcula las predicciones para X usando un umbral en 0.5 (es decir, si sigmoide (theta.T * x)> = 0.5, predice 1)\n",
        "\n",
        "    Parametros\n",
        "    ----------\n",
        "    theta : array_like\n",
        "        Parametros para regresion logistica. Un vecto de la forma (n+1, ).\n",
        "\n",
        "    X : array_like\n",
        "        Datos utilizados para el calculo de las predicciones.\n",
        "        La fila es el numero de los puntos para calcular las predicciones,\n",
        "        y las columnas con el numero de caracteristicas.\n",
        "\n",
        "    Devuelve\n",
        "    -------\n",
        "    p : array_like\n",
        "        Predicciones y 0 o 1 para cada fila en X.\n",
        "    \"\"\"\n",
        "    m = X.shape[0] # Numero de ejemplo de entrenamiento\n",
        "\n",
        "    p = np.zeros(m)\n",
        "\n",
        "    p = np.round(sigmoid(X.dot(theta.T)))\n",
        "    return p"
      ]
    },
    {
      "cell_type": "code",
      "execution_count": 39,
      "metadata": {
        "colab": {
          "base_uri": "https://localhost:8080/"
        },
        "id": "TSsOVeju4SVi",
        "outputId": "1e4c83a7-1213-4c33-e2e4-5ae3eb4c4f86"
      },
      "outputs": [
        {
          "name": "stdout",
          "output_type": "stream",
          "text": [
            "1.0\n",
            "Precisión de entrenamiento: 98.73 %\n"
          ]
        }
      ],
      "source": [
        "#  Predice la probabilidad de ingreso para un estudiante con nota de 45 en el examen 1 y nota de 85 en el examen 2\n",
        "prob = sigmoid(np.dot([1, 0.0, 41.0, 4.0, 1.0, 17.0, 261.0, 147.5, 97.0, 31.65, 75.0, 73.0, 0.0], theta))\n",
        "print (prob)\n",
        "# print('Para un estudiante con notas de 45 y 85, se predice una probabilidad de admisión de: {:.3f}%'.format(prob))\n",
        "# print('Valor esperado: 0.775 +/- 0.002\\n')\n",
        "\n",
        "# Compute accuracy on our training set\n",
        "p = predict(theta, X)\n",
        "print('Precisión de entrenamiento: {:.2f} %'.format(np.mean(p == y) * 100))\n",
        "# print('Precisión esperada (aproximadamente): 92.04 %')"
      ]
    }
  ],
  "metadata": {
    "colab": {
      "provenance": []
    },
    "kernelspec": {
      "display_name": "Python 3",
      "name": "python3"
    },
    "language_info": {
      "codemirror_mode": {
        "name": "ipython",
        "version": 3
      },
      "file_extension": ".py",
      "mimetype": "text/x-python",
      "name": "python",
      "nbconvert_exporter": "python",
      "pygments_lexer": "ipython3",
      "version": "3.11.4"
    }
  },
  "nbformat": 4,
  "nbformat_minor": 0
}
